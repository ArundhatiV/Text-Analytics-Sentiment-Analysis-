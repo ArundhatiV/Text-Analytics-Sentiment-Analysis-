{
  "cells": [
    {
      "cell_type": "markdown",
      "metadata": {
        "id": "view-in-github",
        "colab_type": "text"
      },
      "source": [
        "<a href=\"https://colab.research.google.com/github/ArundhatiV/Text-Analytics-Sentiment-Analysis-/blob/main/Untitled3.ipynb\" target=\"_parent\"><img src=\"https://colab.research.google.com/assets/colab-badge.svg\" alt=\"Open In Colab\"/></a>"
      ]
    },
    {
      "cell_type": "code",
      "execution_count": 1,
      "metadata": {
        "id": "Jg6V8v3RCMJM"
      },
      "outputs": [],
      "source": [
        "import pandas as pd \n",
        "import numpy as np\n",
        "import bs4 as bfs\n",
        "import requests\n",
        "import nltk\n",
        "from nltk.tokenize import sent_tokenize\n",
        "from nltk.tokenize import word_tokenize\n",
        "from nltk.corpus import stopwords\n",
        "from nltk.tokenize import word_tokenize\n",
        "from nltk.sentiment.vader import SentimentIntensityAnalyzer\n",
        "import string\n",
        "from textblob import TextBlob\n",
        "import csv"
      ]
    },
    {
      "cell_type": "code",
      "execution_count": 2,
      "metadata": {
        "id": "Slx0WWPvDmuY",
        "colab": {
          "base_uri": "https://localhost:8080/"
        },
        "outputId": "7d49eaaf-3f12-4e8f-fa07-0b20b3dd7e21"
      },
      "outputs": [
        {
          "output_type": "stream",
          "name": "stdout",
          "text": [
            "Looking in indexes: https://pypi.org/simple, https://us-python.pkg.dev/colab-wheels/public/simple/\n",
            "Requirement already satisfied: openpyxl in /usr/local/lib/python3.7/dist-packages (3.0.10)\n",
            "Requirement already satisfied: et-xmlfile in /usr/local/lib/python3.7/dist-packages (from openpyxl) (1.1.0)\n"
          ]
        }
      ],
      "source": [
        "pip install openpyxl"
      ]
    },
    {
      "cell_type": "code",
      "execution_count": 3,
      "metadata": {
        "id": "sHD6a4WqDzyW",
        "colab": {
          "base_uri": "https://localhost:8080/"
        },
        "outputId": "360bd904-769a-4a94-a915-50ef1b5898ab"
      },
      "outputs": [
        {
          "output_type": "stream",
          "name": "stderr",
          "text": [
            "[nltk_data] Downloading package stopwords to /root/nltk_data...\n",
            "[nltk_data]   Unzipping corpora/stopwords.zip.\n",
            "[nltk_data] Downloading package punkt to /root/nltk_data...\n",
            "[nltk_data]   Unzipping tokenizers/punkt.zip.\n"
          ]
        },
        {
          "output_type": "execute_result",
          "data": {
            "text/plain": [
              "True"
            ]
          },
          "metadata": {},
          "execution_count": 3
        }
      ],
      "source": [
        "nltk.download('stopwords')\n",
        "nltk.download('punkt')"
      ]
    },
    {
      "cell_type": "code",
      "execution_count": 4,
      "metadata": {
        "colab": {
          "base_uri": "https://localhost:8080/"
        },
        "id": "N9Q7__yYOS-b",
        "outputId": "c1311fee-f596-4f72-d03f-61da8147746c"
      },
      "outputs": [
        {
          "output_type": "stream",
          "name": "stdout",
          "text": [
            "Mounted at /content/gdrive\n"
          ]
        }
      ],
      "source": [
        "from google.colab import drive\n",
        "drive.mount('/content/gdrive')"
      ]
    },
    {
      "cell_type": "code",
      "execution_count": 5,
      "metadata": {
        "colab": {
          "base_uri": "https://localhost:8080/",
          "height": 455
        },
        "id": "_PEq_FdHEN9V",
        "outputId": "d259cbe9-0664-405a-c033-ffad8da06dc4"
      },
      "outputs": [
        {
          "output_type": "execute_result",
          "data": {
            "text/plain": [
              "                                                      URL\n",
              "URL_ID                                                   \n",
              "37.0    https://insights.blackcoffer.com/ai-in-healthc...\n",
              "38.0    https://insights.blackcoffer.com/what-if-the-c...\n",
              "39.0    https://insights.blackcoffer.com/what-jobs-wil...\n",
              "40.0    https://insights.blackcoffer.com/will-machine-...\n",
              "41.0    https://insights.blackcoffer.com/will-ai-repla...\n",
              "...                                                   ...\n",
              "146.0   https://insights.blackcoffer.com/blockchain-fo...\n",
              "147.0   https://insights.blackcoffer.com/the-future-of...\n",
              "148.0   https://insights.blackcoffer.com/big-data-anal...\n",
              "149.0   https://insights.blackcoffer.com/business-anal...\n",
              "150.0   https://insights.blackcoffer.com/challenges-an...\n",
              "\n",
              "[114 rows x 1 columns]"
            ],
            "text/html": [
              "\n",
              "  <div id=\"df-b825bcea-cf42-4ebb-a70c-d0f001d83e42\">\n",
              "    <div class=\"colab-df-container\">\n",
              "      <div>\n",
              "<style scoped>\n",
              "    .dataframe tbody tr th:only-of-type {\n",
              "        vertical-align: middle;\n",
              "    }\n",
              "\n",
              "    .dataframe tbody tr th {\n",
              "        vertical-align: top;\n",
              "    }\n",
              "\n",
              "    .dataframe thead th {\n",
              "        text-align: right;\n",
              "    }\n",
              "</style>\n",
              "<table border=\"1\" class=\"dataframe\">\n",
              "  <thead>\n",
              "    <tr style=\"text-align: right;\">\n",
              "      <th></th>\n",
              "      <th>URL</th>\n",
              "    </tr>\n",
              "    <tr>\n",
              "      <th>URL_ID</th>\n",
              "      <th></th>\n",
              "    </tr>\n",
              "  </thead>\n",
              "  <tbody>\n",
              "    <tr>\n",
              "      <th>37.0</th>\n",
              "      <td>https://insights.blackcoffer.com/ai-in-healthc...</td>\n",
              "    </tr>\n",
              "    <tr>\n",
              "      <th>38.0</th>\n",
              "      <td>https://insights.blackcoffer.com/what-if-the-c...</td>\n",
              "    </tr>\n",
              "    <tr>\n",
              "      <th>39.0</th>\n",
              "      <td>https://insights.blackcoffer.com/what-jobs-wil...</td>\n",
              "    </tr>\n",
              "    <tr>\n",
              "      <th>40.0</th>\n",
              "      <td>https://insights.blackcoffer.com/will-machine-...</td>\n",
              "    </tr>\n",
              "    <tr>\n",
              "      <th>41.0</th>\n",
              "      <td>https://insights.blackcoffer.com/will-ai-repla...</td>\n",
              "    </tr>\n",
              "    <tr>\n",
              "      <th>...</th>\n",
              "      <td>...</td>\n",
              "    </tr>\n",
              "    <tr>\n",
              "      <th>146.0</th>\n",
              "      <td>https://insights.blackcoffer.com/blockchain-fo...</td>\n",
              "    </tr>\n",
              "    <tr>\n",
              "      <th>147.0</th>\n",
              "      <td>https://insights.blackcoffer.com/the-future-of...</td>\n",
              "    </tr>\n",
              "    <tr>\n",
              "      <th>148.0</th>\n",
              "      <td>https://insights.blackcoffer.com/big-data-anal...</td>\n",
              "    </tr>\n",
              "    <tr>\n",
              "      <th>149.0</th>\n",
              "      <td>https://insights.blackcoffer.com/business-anal...</td>\n",
              "    </tr>\n",
              "    <tr>\n",
              "      <th>150.0</th>\n",
              "      <td>https://insights.blackcoffer.com/challenges-an...</td>\n",
              "    </tr>\n",
              "  </tbody>\n",
              "</table>\n",
              "<p>114 rows × 1 columns</p>\n",
              "</div>\n",
              "      <button class=\"colab-df-convert\" onclick=\"convertToInteractive('df-b825bcea-cf42-4ebb-a70c-d0f001d83e42')\"\n",
              "              title=\"Convert this dataframe to an interactive table.\"\n",
              "              style=\"display:none;\">\n",
              "        \n",
              "  <svg xmlns=\"http://www.w3.org/2000/svg\" height=\"24px\"viewBox=\"0 0 24 24\"\n",
              "       width=\"24px\">\n",
              "    <path d=\"M0 0h24v24H0V0z\" fill=\"none\"/>\n",
              "    <path d=\"M18.56 5.44l.94 2.06.94-2.06 2.06-.94-2.06-.94-.94-2.06-.94 2.06-2.06.94zm-11 1L8.5 8.5l.94-2.06 2.06-.94-2.06-.94L8.5 2.5l-.94 2.06-2.06.94zm10 10l.94 2.06.94-2.06 2.06-.94-2.06-.94-.94-2.06-.94 2.06-2.06.94z\"/><path d=\"M17.41 7.96l-1.37-1.37c-.4-.4-.92-.59-1.43-.59-.52 0-1.04.2-1.43.59L10.3 9.45l-7.72 7.72c-.78.78-.78 2.05 0 2.83L4 21.41c.39.39.9.59 1.41.59.51 0 1.02-.2 1.41-.59l7.78-7.78 2.81-2.81c.8-.78.8-2.07 0-2.86zM5.41 20L4 18.59l7.72-7.72 1.47 1.35L5.41 20z\"/>\n",
              "  </svg>\n",
              "      </button>\n",
              "      \n",
              "  <style>\n",
              "    .colab-df-container {\n",
              "      display:flex;\n",
              "      flex-wrap:wrap;\n",
              "      gap: 12px;\n",
              "    }\n",
              "\n",
              "    .colab-df-convert {\n",
              "      background-color: #E8F0FE;\n",
              "      border: none;\n",
              "      border-radius: 50%;\n",
              "      cursor: pointer;\n",
              "      display: none;\n",
              "      fill: #1967D2;\n",
              "      height: 32px;\n",
              "      padding: 0 0 0 0;\n",
              "      width: 32px;\n",
              "    }\n",
              "\n",
              "    .colab-df-convert:hover {\n",
              "      background-color: #E2EBFA;\n",
              "      box-shadow: 0px 1px 2px rgba(60, 64, 67, 0.3), 0px 1px 3px 1px rgba(60, 64, 67, 0.15);\n",
              "      fill: #174EA6;\n",
              "    }\n",
              "\n",
              "    [theme=dark] .colab-df-convert {\n",
              "      background-color: #3B4455;\n",
              "      fill: #D2E3FC;\n",
              "    }\n",
              "\n",
              "    [theme=dark] .colab-df-convert:hover {\n",
              "      background-color: #434B5C;\n",
              "      box-shadow: 0px 1px 3px 1px rgba(0, 0, 0, 0.15);\n",
              "      filter: drop-shadow(0px 1px 2px rgba(0, 0, 0, 0.3));\n",
              "      fill: #FFFFFF;\n",
              "    }\n",
              "  </style>\n",
              "\n",
              "      <script>\n",
              "        const buttonEl =\n",
              "          document.querySelector('#df-b825bcea-cf42-4ebb-a70c-d0f001d83e42 button.colab-df-convert');\n",
              "        buttonEl.style.display =\n",
              "          google.colab.kernel.accessAllowed ? 'block' : 'none';\n",
              "\n",
              "        async function convertToInteractive(key) {\n",
              "          const element = document.querySelector('#df-b825bcea-cf42-4ebb-a70c-d0f001d83e42');\n",
              "          const dataTable =\n",
              "            await google.colab.kernel.invokeFunction('convertToInteractive',\n",
              "                                                     [key], {});\n",
              "          if (!dataTable) return;\n",
              "\n",
              "          const docLinkHtml = 'Like what you see? Visit the ' +\n",
              "            '<a target=\"_blank\" href=https://colab.research.google.com/notebooks/data_table.ipynb>data table notebook</a>'\n",
              "            + ' to learn more about interactive tables.';\n",
              "          element.innerHTML = '';\n",
              "          dataTable['output_type'] = 'display_data';\n",
              "          await google.colab.output.renderOutput(dataTable, element);\n",
              "          const docLink = document.createElement('div');\n",
              "          docLink.innerHTML = docLinkHtml;\n",
              "          element.appendChild(docLink);\n",
              "        }\n",
              "      </script>\n",
              "    </div>\n",
              "  </div>\n",
              "  "
            ]
          },
          "metadata": {},
          "execution_count": 5
        }
      ],
      "source": [
        "data=pd.read_excel('/content/gdrive/MyDrive/20211030 Test Assignment/Input.xlsx',index_col=0)\n",
        "data"
      ]
    },
    {
      "cell_type": "code",
      "execution_count": 6,
      "metadata": {
        "colab": {
          "base_uri": "https://localhost:8080/"
        },
        "id": "d8p_jiT-Lt3R",
        "outputId": "d84257f9-572e-4890-ecd2-3c5ad398aeef"
      },
      "outputs": [
        {
          "output_type": "execute_result",
          "data": {
            "text/plain": [
              "['https://insights.blackcoffer.com/ai-in-healthcare-to-improve-patient-outcomes/',\n",
              " 'https://insights.blackcoffer.com/what-if-the-creation-is-taking-over-the-creator/',\n",
              " 'https://insights.blackcoffer.com/what-jobs-will-robots-take-from-humans-in-the-future/',\n",
              " 'https://insights.blackcoffer.com/will-machine-replace-the-human-in-the-future-of-work/',\n",
              " 'https://insights.blackcoffer.com/will-ai-replace-us-or-work-with-us/',\n",
              " 'https://insights.blackcoffer.com/man-and-machines-together-machines-are-more-diligent-than-humans-blackcoffe/',\n",
              " 'https://insights.blackcoffer.com/in-future-or-in-upcoming-years-humans-and-machines-are-going-to-work-together-in-every-field-of-work/',\n",
              " 'https://insights.blackcoffer.com/how-neural-networks-can-be-applied-in-various-areas-in-the-future/',\n",
              " 'https://insights.blackcoffer.com/how-machine-learning-will-affect-your-business/',\n",
              " 'https://insights.blackcoffer.com/deep-learning-impact-on-areas-of-e-learning/',\n",
              " 'https://insights.blackcoffer.com/how-to-protect-future-data-and-its-privacy-blackcoffer/',\n",
              " 'https://insights.blackcoffer.com/how-machines-ai-automations-and-robo-human-are-effective-in-finance-and-banking/',\n",
              " 'https://insights.blackcoffer.com/ai-human-robotics-machine-future-planet-blackcoffer-thinking-jobs-workplace/',\n",
              " 'https://insights.blackcoffer.com/how-ai-will-change-the-world-blackcoffer/',\n",
              " 'https://insights.blackcoffer.com/future-of-work-how-ai-has-entered-the-workplace/',\n",
              " 'https://insights.blackcoffer.com/ai-tool-alexa-google-assistant-finance-banking-tool-future/',\n",
              " 'https://insights.blackcoffer.com/ai-healthcare-revolution-ml-technology-algorithm-google-analytics-industrialrevolution/',\n",
              " 'https://insights.blackcoffer.com/all-you-need-to-know-about-online-marketing/',\n",
              " 'https://insights.blackcoffer.com/evolution-of-advertising-industry/',\n",
              " 'https://insights.blackcoffer.com/how-data-analytics-can-help-your-business-respond-to-the-impact-of-covid-19/',\n",
              " 'https://insights.blackcoffer.com/covid-19-environmental-impact-for-the-future/',\n",
              " 'https://insights.blackcoffer.com/environmental-impact-of-the-covid-19-pandemic-lesson-for-the-future/',\n",
              " 'https://insights.blackcoffer.com/how-data-analytics-and-ai-are-used-to-halt-the-covid-19-pandemic/',\n",
              " 'https://insights.blackcoffer.com/difference-between-artificial-intelligence-machine-learning-statistics-and-data-mining/',\n",
              " 'https://insights.blackcoffer.com/how-python-became-the-first-choice-for-data-science/',\n",
              " 'https://insights.blackcoffer.com/how-google-fit-measure-heart-and-respiratory-rates-using-a-phone/',\n",
              " 'https://insights.blackcoffer.com/what-is-the-future-of-mobile-apps/',\n",
              " 'https://insights.blackcoffer.com/impact-of-ai-in-health-and-medicine/',\n",
              " 'https://insights.blackcoffer.com/telemedicine-what-patients-like-and-dislike-about-it/',\n",
              " 'https://insights.blackcoffer.com/how-we-forecast-future-technologies/',\n",
              " 'https://insights.blackcoffer.com/can-robots-tackle-late-life-loneliness/',\n",
              " 'https://insights.blackcoffer.com/embedding-care-robots-into-society-socio-technical-considerations/',\n",
              " 'https://insights.blackcoffer.com/management-challenges-for-future-digitalization-of-healthcare-services/',\n",
              " 'https://insights.blackcoffer.com/are-we-any-closer-to-preventing-a-nuclear-holocaust/',\n",
              " 'https://insights.blackcoffer.com/will-technology-eliminate-the-need-for-animal-testing-in-drug-development/',\n",
              " 'https://insights.blackcoffer.com/will-we-ever-understand-the-nature-of-consciousness/',\n",
              " 'https://insights.blackcoffer.com/will-we-ever-colonize-outer-space/',\n",
              " 'https://insights.blackcoffer.com/what-is-the-chance-homo-sapiens-will-survive-for-the-next-500-years/',\n",
              " 'https://insights.blackcoffer.com/why-does-your-business-need-a-chatbot/',\n",
              " 'https://insights.blackcoffer.com/how-you-lead-a-project-or-a-team-without-any-technical-expertise/',\n",
              " 'https://insights.blackcoffer.com/can-you-be-great-leader-without-technical-expertise/',\n",
              " 'https://insights.blackcoffer.com/how-does-artificial-intelligence-affect-the-environment/',\n",
              " 'https://insights.blackcoffer.com/how-to-overcome-your-fear-of-making-mistakes-2/',\n",
              " 'https://insights.blackcoffer.com/is-perfection-the-greatest-enemy-of-productivity/',\n",
              " 'https://insights.blackcoffer.com/global-financial-crisis-2008-causes-effects-and-its-solution/',\n",
              " 'https://insights.blackcoffer.com/gender-diversity-and-equality-in-the-tech-industry/',\n",
              " 'https://insights.blackcoffer.com/how-to-overcome-your-fear-of-making-mistakes/',\n",
              " 'https://insights.blackcoffer.com/how-small-business-can-survive-the-coronavirus-crisis/',\n",
              " 'https://insights.blackcoffer.com/impacts-of-covid-19-on-vegetable-vendors-and-food-stalls/',\n",
              " 'https://insights.blackcoffer.com/impacts-of-covid-19-on-vegetable-vendors/',\n",
              " 'https://insights.blackcoffer.com/impact-of-covid-19-pandemic-on-tourism-aviation-industries/',\n",
              " 'https://insights.blackcoffer.com/impact-of-covid-19-pandemic-on-sports-events-around-the-world/',\n",
              " 'https://insights.blackcoffer.com/changing-landscape-and-emerging-trends-in-the-indian-it-ites-industry/',\n",
              " 'https://insights.blackcoffer.com/online-gaming-adolescent-online-gaming-effects-demotivated-depression-musculoskeletal-and-psychosomatic-symptoms/',\n",
              " 'https://insights.blackcoffer.com/human-rights-outlook/',\n",
              " 'https://insights.blackcoffer.com/how-voice-search-makes-your-business-a-successful-business/',\n",
              " 'https://insights.blackcoffer.com/how-the-covid-19-crisis-is-redefining-jobs-and-services/',\n",
              " 'https://insights.blackcoffer.com/how-to-increase-social-media-engagement-for-marketers/',\n",
              " 'https://insights.blackcoffer.com/impacts-of-covid-19-on-streets-sides-food-stalls/',\n",
              " 'https://insights.blackcoffer.com/coronavirus-impact-on-energy-markets-2/',\n",
              " 'https://insights.blackcoffer.com/coronavirus-impact-on-the-hospitality-industry-5/',\n",
              " 'https://insights.blackcoffer.com/lessons-from-the-past-some-key-learnings-relevant-to-the-coronavirus-crisis-4/',\n",
              " 'https://insights.blackcoffer.com/estimating-the-impact-of-covid-19-on-the-world-of-work-2/',\n",
              " 'https://insights.blackcoffer.com/estimating-the-impact-of-covid-19-on-the-world-of-work-3/',\n",
              " 'https://insights.blackcoffer.com/travel-and-tourism-outlook/',\n",
              " 'https://insights.blackcoffer.com/gaming-disorder-and-effects-of-gaming-on-health/',\n",
              " 'https://insights.blackcoffer.com/what-is-the-repercussion-of-the-environment-due-to-the-covid-19-pandemic-situation/',\n",
              " 'https://insights.blackcoffer.com/what-is-the-repercussion-of-the-environment-due-to-the-covid-19-pandemic-situation-2/',\n",
              " 'https://insights.blackcoffer.com/impact-of-covid-19-pandemic-on-office-space-and-co-working-industries/',\n",
              " 'https://insights.blackcoffer.com/contribution-of-handicrafts-visual-arts-literature-in-the-indian-economy/',\n",
              " 'https://insights.blackcoffer.com/how-covid-19-is-impacting-payment-preferences/',\n",
              " 'https://insights.blackcoffer.com/how-will-covid-19-affect-the-world-of-work-2/',\n",
              " 'https://insights.blackcoffer.com/lessons-from-the-past-some-key-learnings-relevant-to-the-coronavirus-crisis/',\n",
              " 'https://insights.blackcoffer.com/covid-19-how-have-countries-been-responding/',\n",
              " 'https://insights.blackcoffer.com/coronavirus-impact-on-the-hospitality-industry-2/',\n",
              " 'https://insights.blackcoffer.com/how-will-covid-19-affect-the-world-of-work-3/',\n",
              " 'https://insights.blackcoffer.com/coronavirus-impact-on-the-hospitality-industry-3/',\n",
              " 'https://insights.blackcoffer.com/estimating-the-impact-of-covid-19-on-the-world-of-work/',\n",
              " 'https://insights.blackcoffer.com/covid-19-how-have-countries-been-responding-2/',\n",
              " 'https://insights.blackcoffer.com/how-will-covid-19-affect-the-world-of-work-4/',\n",
              " 'https://insights.blackcoffer.com/lessons-from-the-past-some-key-learnings-relevant-to-the-coronavirus-crisis-2/',\n",
              " 'https://insights.blackcoffer.com/lessons-from-the-past-some-key-learnings-relevant-to-the-coronavirus-crisis-3/',\n",
              " 'https://insights.blackcoffer.com/coronavirus-impact-on-the-hospitality-industry-4/',\n",
              " 'https://insights.blackcoffer.com/why-scams-like-nirav-modi-happen-with-indian-banks/',\n",
              " 'https://insights.blackcoffer.com/impact-of-covid-19-on-the-global-economy/',\n",
              " 'https://insights.blackcoffer.com/impact-of-covid-19coronavirus-on-the-indian-economy-2/',\n",
              " 'https://insights.blackcoffer.com/impact-of-covid-19-on-the-global-economy-2/',\n",
              " 'https://insights.blackcoffer.com/impact-of-covid-19-coronavirus-on-the-indian-economy-3/',\n",
              " 'https://insights.blackcoffer.com/should-celebrities-be-allowed-to-join-politics/',\n",
              " 'https://insights.blackcoffer.com/how-prepared-is-india-to-tackle-a-possible-covid-19-outbreak/',\n",
              " 'https://insights.blackcoffer.com/how-will-covid-19-affect-the-world-of-work/',\n",
              " 'https://insights.blackcoffer.com/controversy-as-a-marketing-strategy/',\n",
              " 'https://insights.blackcoffer.com/coronavirus-impact-on-the-hospitality-industry/',\n",
              " 'https://insights.blackcoffer.com/coronavirus-impact-on-energy-markets/',\n",
              " 'https://insights.blackcoffer.com/what-are-the-key-policies-that-will-mitigate-the-impacts-of-covid-19-on-the-world-of-work/',\n",
              " 'https://insights.blackcoffer.com/marketing-drives-results-with-a-focus-on-problems/',\n",
              " 'https://insights.blackcoffer.com/continued-demand-for-sustainability/',\n",
              " 'https://insights.blackcoffer.com/coronavirus-disease-covid-19-effect-the-impact-and-role-of-mass-media-during-the-pandemic/',\n",
              " 'https://insights.blackcoffer.com/should-people-wear-fabric-gloves-seeking-evidence-regarding-the-differential-transfer-of-covid-19-or-coronaviruses-generally-between-surfaces/',\n",
              " 'https://insights.blackcoffer.com/why-is-there-a-severe-immunological-and-inflammatory-explosion-in-those-affected-by-sarms-covid-19/',\n",
              " 'https://insights.blackcoffer.com/what-do-you-think-is-the-lesson-or-lessons-to-be-learned-with-covid-19/',\n",
              " 'https://insights.blackcoffer.com/coronavirus-the-unexpected-challenge-for-the-european-union/',\n",
              " 'https://insights.blackcoffer.com/industrial-revolution-4-0-pros-and-cons/',\n",
              " 'https://insights.blackcoffer.com/impact-of-covid-19-coronavirus-on-the-indian-economy/',\n",
              " 'https://insights.blackcoffer.com/impact-of-covid-19-coronavirus-on-the-indian-economy-2/',\n",
              " 'https://insights.blackcoffer.com/impact-of-covid-19coronavirus-on-the-indian-economy/',\n",
              " 'https://insights.blackcoffer.com/impact-of-covid-19-coronavirus-on-the-global-economy/',\n",
              " 'https://insights.blackcoffer.com/ensuring-growth-through-insurance-technology/',\n",
              " 'https://insights.blackcoffer.com/blockchain-in-fintech/',\n",
              " 'https://insights.blackcoffer.com/blockchain-for-payments/',\n",
              " 'https://insights.blackcoffer.com/the-future-of-investing/',\n",
              " 'https://insights.blackcoffer.com/big-data-analytics-in-healthcare/',\n",
              " 'https://insights.blackcoffer.com/business-analytics-in-the-healthcare-industry/',\n",
              " 'https://insights.blackcoffer.com/challenges-and-opportunities-of-big-data-in-healthcare/']"
            ]
          },
          "metadata": {},
          "execution_count": 6
        }
      ],
      "source": [
        "lin=[url for url in data['URL']]\n",
        "lin"
      ]
    },
    {
      "cell_type": "code",
      "execution_count": 7,
      "metadata": {
        "id": "u27CTScxMbbz"
      },
      "outputs": [],
      "source": [
        "text=[]\n",
        "for url in lin:\n",
        "  text.append(requests.get(url,headers={\"User-Agent\":\"XY\"}))"
      ]
    },
    {
      "cell_type": "code",
      "execution_count": 8,
      "metadata": {
        "id": "2Ls4D1mkM_aM"
      },
      "outputs": [],
      "source": [
        "for i in range(len(text)):\n",
        "  text[i]=bfs.BeautifulSoup(text[i].content,'html.parser')"
      ]
    },
    {
      "cell_type": "code",
      "execution_count": 9,
      "metadata": {
        "colab": {
          "base_uri": "https://localhost:8080/",
          "height": 200
        },
        "id": "qWynSPWXNiCK",
        "outputId": "6559270b-b5dc-4fef-8c1f-b86d028909d3"
      },
      "outputs": [
        {
          "output_type": "error",
          "ename": "AttributeError",
          "evalue": "ignored",
          "traceback": [
            "\u001b[0;31m---------------------------------------------------------------------------\u001b[0m",
            "\u001b[0;31mAttributeError\u001b[0m                            Traceback (most recent call last)",
            "\u001b[0;32m<ipython-input-9-875997e138e5>\u001b[0m in \u001b[0;36m<module>\u001b[0;34m\u001b[0m\n\u001b[1;32m      1\u001b[0m \u001b[0marticles\u001b[0m \u001b[0;34m=\u001b[0m \u001b[0;34m[\u001b[0m\u001b[0;34m]\u001b[0m\u001b[0;34m\u001b[0m\u001b[0;34m\u001b[0m\u001b[0m\n\u001b[1;32m      2\u001b[0m \u001b[0;32mfor\u001b[0m \u001b[0mtext\u001b[0m \u001b[0;32min\u001b[0m \u001b[0mtext\u001b[0m\u001b[0;34m:\u001b[0m\u001b[0;34m\u001b[0m\u001b[0;34m\u001b[0m\u001b[0m\n\u001b[0;32m----> 3\u001b[0;31m   \u001b[0marticles\u001b[0m\u001b[0;34m.\u001b[0m\u001b[0mappend\u001b[0m\u001b[0;34m(\u001b[0m\u001b[0mtext\u001b[0m\u001b[0;34m.\u001b[0m\u001b[0mfind\u001b[0m\u001b[0;34m(\u001b[0m\u001b[0mattrs\u001b[0m\u001b[0;34m=\u001b[0m \u001b[0;34m{\u001b[0m\u001b[0;34m\"class\"\u001b[0m\u001b[0;34m:\u001b[0m\u001b[0;34m\"td-post-content\"\u001b[0m\u001b[0;34m}\u001b[0m\u001b[0;34m)\u001b[0m\u001b[0;34m.\u001b[0m\u001b[0mtext\u001b[0m\u001b[0;34m)\u001b[0m\u001b[0;34m\u001b[0m\u001b[0;34m\u001b[0m\u001b[0m\n\u001b[0m",
            "\u001b[0;31mAttributeError\u001b[0m: 'NoneType' object has no attribute 'text'"
          ]
        }
      ],
      "source": [
        "articles = []\n",
        "for text in text:\n",
        "  articles.append(text.find(attrs= {\"class\":\"td-post-content\"}).text)"
      ]
    },
    {
      "cell_type": "code",
      "execution_count": null,
      "metadata": {
        "id": "EzAMAP6UODqb"
      },
      "outputs": [],
      "source": [
        "for i in range (len(articles)):\n",
        "  articles[i]=articles[i].replace('\\n','')"
      ]
    },
    {
      "cell_type": "code",
      "execution_count": null,
      "metadata": {
        "id": "Ihj9TQ7GOgEK"
      },
      "outputs": [],
      "source": [
        "stop_words=list(set(stopwords.words('english')))"
      ]
    },
    {
      "cell_type": "code",
      "execution_count": null,
      "metadata": {
        "id": "Rwfx5a1jO2CO"
      },
      "outputs": [],
      "source": [
        "sentences=[]\n",
        "for article in articles:\n",
        "  sentences.append(len(sent_tokenize(article)))"
      ]
    },
    {
      "cell_type": "code",
      "execution_count": null,
      "metadata": {
        "id": "ocaKvo8ZPJ7b"
      },
      "outputs": [],
      "source": [
        "cleaned_articles=['']*len(articles)"
      ]
    },
    {
      "cell_type": "code",
      "execution_count": null,
      "metadata": {
        "id": "1h8l22CUPW9j"
      },
      "outputs": [],
      "source": [
        "for i in range(len(articles)):\n",
        "  for w in stop_words:\n",
        "    cleaned_articles[i]=articles[i].replace(''+w+'','').replace('?','').replace('.','').replace(',','').replace('!','')"
      ]
    },
    {
      "cell_type": "code",
      "execution_count": null,
      "metadata": {
        "id": "HLVGme1XQgv-"
      },
      "outputs": [],
      "source": [
        "words=[]\n",
        "for article in articles:\n",
        "  words.append(len(word_tokenize(article)))"
      ]
    },
    {
      "cell_type": "code",
      "execution_count": null,
      "metadata": {
        "id": "yDVulYiDQ246"
      },
      "outputs": [],
      "source": [
        "dictionary=open('/content/drive/MyDrive/20211030 Test Assignment/MasterDictionary/positive-words.txt','r',encoding='utf-8').readlines()"
      ]
    },
    {
      "cell_type": "code",
      "source": [
        "positive_words = list(dictionary[dictionary['Positive']==2009]['Word'])\n",
        "positive_words = [word.lower() for word in positive_words]"
      ],
      "metadata": {
        "id": "NiasB2x5Qpoe"
      },
      "execution_count": null,
      "outputs": []
    },
    {
      "cell_type": "code",
      "source": [
        "negative_words = list(dictionary[dictionary['Negative']==2009]['Word'])"
      ],
      "metadata": {
        "id": "e_zLzpj3QuW8"
      },
      "execution_count": null,
      "outputs": []
    },
    {
      "cell_type": "code",
      "source": [
        "positive_score = [0]*len(articles)\n",
        "for i in range(len(articles)):\n",
        "  for word in positive_words:\n",
        "    for letter in cleaned_articles[i].lower().split(' '):\n",
        "      if letter==word:\n",
        "        positive_score[i]+=1"
      ],
      "metadata": {
        "id": "niUj7c0OQyxR"
      },
      "execution_count": null,
      "outputs": []
    },
    {
      "cell_type": "code",
      "source": [
        "negative_score = [0]*len(articles)\n",
        "for i in range(len(articles)):\n",
        "  for word in negative_words:\n",
        "    for letter in cleaned_articles[i].upper().split(' '):\n",
        "      if letter==word:\n",
        "        negative_score[i]+=1"
      ],
      "metadata": {
        "id": "hRuTYP7bQ2fN"
      },
      "execution_count": null,
      "outputs": []
    },
    {
      "cell_type": "code",
      "source": [
        "words_cleaned = np.array(words_cleaned)\n",
        "sentences = np.array(sentences)"
      ],
      "metadata": {
        "id": "JewdJIXpRAZl"
      },
      "execution_count": null,
      "outputs": []
    },
    {
      "cell_type": "code",
      "source": [
        "df['POSITIVE SCORE'] = positive_score\n",
        "df['NEGATIVE SCORE'] = negative_score"
      ],
      "metadata": {
        "id": "I0GCqX1-RBhy"
      },
      "execution_count": null,
      "outputs": []
    },
    {
      "cell_type": "code",
      "source": [
        "df['POLARITY SCORE'] = (df['POSITIVE SCORE']-df['NEGATIVE SCORE'])/ ((df['POSITIVE SCORE'] +df['NEGATIVE SCORE']) + 0.000001)"
      ],
      "metadata": {
        "id": "MsLC22wfRFtB"
      },
      "execution_count": null,
      "outputs": []
    },
    {
      "cell_type": "code",
      "source": [
        "df['SUBJECTIVITY SCORE'] = (df['POSITIVE SCORE'] + df['NEGATIVE SCORE'])/( (words_cleaned) + 0.000001)"
      ],
      "metadata": {
        "id": "hs6MzFvrRI39"
      },
      "execution_count": null,
      "outputs": []
    },
    {
      "cell_type": "code",
      "source": [
        "df['AVG SENTENCE LENGTH'] = np.array(words)/np.array(sentences)"
      ],
      "metadata": {
        "id": "7WMBweeURNN6"
      },
      "execution_count": null,
      "outputs": []
    },
    {
      "cell_type": "code",
      "source": [
        "complex_words = []\n",
        "sylabble_counts = []"
      ],
      "metadata": {
        "id": "EuG8MxBmRVLQ"
      },
      "execution_count": null,
      "outputs": []
    },
    {
      "cell_type": "code",
      "source": [
        "for article in articles:\n",
        "  sylabble_count=0\n",
        "  d=article.split()\n",
        "  ans=0\n",
        "  for word in d:\n",
        "    count=0\n",
        "    for i in range(len(word)):\n",
        "      if(word[i]=='a' or word[i]=='e' or word[i] =='i' or word[i] == 'o' or word[i] == 'u'):\n",
        "           count+=1\n",
        "#            print(words[i])\n",
        "      if(i==len(word)-2 and (word[i]=='e' and word[i+1]=='d')):\n",
        "        count-=1;\n",
        "      if(i==len(word)-2 and (word[i]=='e' and word[i]=='s')):\n",
        "        count-=1;\n",
        "    sylabble_count+=count    \n",
        "    if(count>2):\n",
        "        ans+=1\n",
        "  sylabble_counts.append(sylabble_count)\n",
        "  complex_words.append(ans)           "
      ],
      "metadata": {
        "id": "KQn_dGkIRWjO"
      },
      "execution_count": null,
      "outputs": []
    },
    {
      "cell_type": "code",
      "source": [
        "df['PERCENTAGE OF COMPLEX WORDS'] = np.array(complex_words)/np.array(words)"
      ],
      "metadata": {
        "id": "in-9nwvPRqZ7"
      },
      "execution_count": null,
      "outputs": []
    },
    {
      "cell_type": "code",
      "source": [
        "df['FOG INDEX'] = 0.4 * (df['AVG SENTENCE LENGTH'] + df['PERCENTAGE OF COMPLEX WORDS'])"
      ],
      "metadata": {
        "id": "qzcwquj3RsIn"
      },
      "execution_count": null,
      "outputs": []
    },
    {
      "cell_type": "code",
      "source": [
        "df['AVG NUMBER OF WORDS PER SENTENCES'] = df['AVG SENTENCE LENGTH']"
      ],
      "metadata": {
        "id": "lLsJHJg7Rz_e"
      },
      "execution_count": null,
      "outputs": []
    },
    {
      "cell_type": "code",
      "source": [
        "df['COMPLEX WORD COUNT'] = complex_words"
      ],
      "metadata": {
        "id": "39OAYD_JR5wB"
      },
      "execution_count": null,
      "outputs": []
    },
    {
      "cell_type": "code",
      "source": [
        "df['WORD COUNT'] = words"
      ],
      "metadata": {
        "id": "2scgnTl3R7W8"
      },
      "execution_count": null,
      "outputs": []
    },
    {
      "cell_type": "code",
      "source": [
        "df['SYLLABLE PER WORD'] = np.array(sylabble_counts)/np.array(words)"
      ],
      "metadata": {
        "id": "BeEq9xDkR-4R"
      },
      "execution_count": null,
      "outputs": []
    },
    {
      "cell_type": "code",
      "source": [
        "total_characters = []\n",
        "for article in articles:\n",
        "  characters = 0\n",
        "  for word in article.split():\n",
        "    characters+=len(word)\n",
        "  total_characters.append(characters)"
      ],
      "metadata": {
        "id": "L3v0IN2oSJYC"
      },
      "execution_count": null,
      "outputs": []
    },
    {
      "cell_type": "code",
      "source": [
        "personal_nouns = []\n",
        "personal_noun =['I', 'we','my', 'ours','and' 'us','My','We','Ours','Us','And'] \n",
        "for article in articles:\n",
        "  ans=0\n",
        "  for word in article:\n",
        "    if word in personal_noun:\n",
        "      ans+=1\n",
        "  personal_nouns.append(ans)"
      ],
      "metadata": {
        "id": "mbbK6WDVSK0y"
      },
      "execution_count": null,
      "outputs": []
    },
    {
      "cell_type": "code",
      "source": [
        "df['PERSONAL PRONOUN'] = personal_nouns\n",
        "#as the all pronouns were cleared when clearing the stop words."
      ],
      "metadata": {
        "id": "lBjBlaQoSOrp"
      },
      "execution_count": null,
      "outputs": []
    },
    {
      "cell_type": "code",
      "source": [
        "df['AVG WORD LENGTH'] = np.array(total_characters)/np.array(words)"
      ],
      "metadata": {
        "id": "0fUDS1t4SVtk"
      },
      "execution_count": null,
      "outputs": []
    },
    {
      "cell_type": "code",
      "source": [
        "df"
      ],
      "metadata": {
        "id": "E-mWvpkYSWiS"
      },
      "execution_count": null,
      "outputs": []
    },
    {
      "cell_type": "code",
      "source": [
        "articles\n"
      ],
      "metadata": {
        "id": "U5FTc2nZSfuR"
      },
      "execution_count": null,
      "outputs": []
    }
  ],
  "metadata": {
    "colab": {
      "collapsed_sections": [],
      "provenance": [],
      "mount_file_id": "1tXVUmuUospxKvbSJkwBQTK6-ixnLKZjf",
      "authorship_tag": "ABX9TyP5NOhVNiHfNbN1crt0m81m",
      "include_colab_link": true
    },
    "kernelspec": {
      "display_name": "Python 3",
      "name": "python3"
    },
    "language_info": {
      "name": "python"
    }
  },
  "nbformat": 4,
  "nbformat_minor": 0
}